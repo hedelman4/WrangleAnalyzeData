{
 "cells": [
  {
   "cell_type": "markdown",
   "metadata": {},
   "source": [
    "## Reporting: wrangle_report\n",
    "* Create a **300-600 word written report** called \"wrangle_report.pdf\" or \"wrangle_report.html\" that briefly describes your wrangling efforts. This is to be framed as an internal document."
   ]
  },
  {
   "cell_type": "markdown",
   "metadata": {},
   "source": [
    "### Wrangling Documentation\n",
    "The data that was required to be wrangled for this project related to the WeRateDogs Twitter page. Various pet owners post images of their dog with a caption and light-hearted rating system. Other Twitter users then like and retweet the original tweet posts. Additionally, a separate model was built to predict the breeds of dogs found in the images posted on twitter. In order to discover any potential relationships between ratings, likes, retweets and dog breeds, 3 different data sources needed to be gathered, assessed and cleaned.\n",
    "<br>"
   ]
  },
  {
   "cell_type": "markdown",
   "metadata": {},
   "source": [
    "**Gathering**\n",
    "- A csv file titled twitter-archive-enhanced was provided as a file-on-hand. This file simply needed to be read into a dataframe using pandas.\n",
    "- A tsv file titled image-predictions was stored on the web and needed to be rquested and then written into a file path before being read into a dataframe.\n",
    "- The twitter-archive-enhanced csv file had a number of missing data entries. In order to fill in the blanks, additional data needed to be gathered from Twitter using the tweepy library and Twitter API. The outputs were stored into a txt file titled tweet_json."
   ]
  },
  {
   "cell_type": "markdown",
   "metadata": {},
   "source": [
    "**Assessing**\n",
    "<br>Quality Issues:\n",
    "1. **Visual Assessment:** The twitter archive has missing values for in_reply_to and retweeted_status columns. Entries that contain data for these columns most likely indicate that these tweets are not the original post but instead are retweets or forwarded tweets. \n",
    "\n",
    "2. **Programmatic Assessment:** The twitter archive has missing values for the expanded_urls column.\n",
    "\n",
    "3. Tweet IDs are of integer type across all of the data sources, but should be strings instead. \n",
    "\n",
    "4. There are inconsistent numbers of entries from the different data sources, with the additional data pulled from the Twitter representing the fewest at only 870 entries.\n",
    "\n",
    "5. The timestamp data are string instead of datetimes data types.\n",
    "\n",
    "6. There are a number of rating_numerators that are below 10. Given the base denominator is 10, these entries were probably erroneous.\n",
    "\n",
    "7. Some rating_denominators are not equal to 10, creating an inconsistent base \n",
    "\n",
    "8. The entries for the dog type columns (doggo, fluffer, pupper and puppo) are typically \"None.\""
   ]
  },
  {
   "cell_type": "markdown",
   "metadata": {},
   "source": [
    "Tidiness Issues:\n",
    "1. The twitter archive, the neural-network image, and the additional twitter data pulled using the API should be combined into one table.\n",
    "\n",
    "2. The doggo, floofer, etc columns should be consolidated and organized."
   ]
  },
  {
   "cell_type": "markdown",
   "metadata": {},
   "source": [
    "**Cleaning**\n",
    "<br>Quality Issues:\n",
    "1. Drop rows with non-null entries for \"in_reply_to\" and \"retweeted_status\" columns, then drop the columns themselves since these types of tweets are not what we're looking for in this analysis.\n",
    "2. Drop rows with null entries for \"expanded_urls\" column.\n",
    "3. Convert data types for \"tweet_id\" columns from integer to string for all tables.\n",
    "4. Do an inner join across the tables based on the 870 Tweet IDs found from the additional twitter API pull. (This also resolves the 1st tidiness issue)\n",
    "5. Convert timestamp data to datetime data types from string types.\n",
    "6. Manually evaluate the rating numerator data that is below 10. If a clear error can be discerned, fix the error, otherwise drop the row.\n",
    "7. Manually evaluate the rating denominator data that is different than 10. If a clear error can be discerned, fix the error, otherwise drop the row.\n",
    "8. The entries for the dog type columns (doggo, fluffer, pupper and puppo) are too incomplete to make any meaningful observations. It's best to just drop these columns."
   ]
  },
  {
   "cell_type": "markdown",
   "metadata": {},
   "source": [
    "Tidiness Issues:\n",
    "1. Confirm the inner join based on the minimum complete data sets corresponding with tweet IDs has been resolved. (Overlaps with 4th quality issue)\n",
    "2. Consolidate the dog category columns so they're not spread out across 4 different structures."
   ]
  }
 ],
 "metadata": {
  "kernelspec": {
   "display_name": "Python 3 (ipykernel)",
   "language": "python",
   "name": "python3"
  },
  "language_info": {
   "codemirror_mode": {
    "name": "ipython",
    "version": 3
   },
   "file_extension": ".py",
   "mimetype": "text/x-python",
   "name": "python",
   "nbconvert_exporter": "python",
   "pygments_lexer": "ipython3",
   "version": "3.8.8"
  }
 },
 "nbformat": 4,
 "nbformat_minor": 2
}
